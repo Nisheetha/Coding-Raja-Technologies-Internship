{
  "nbformat": 4,
  "nbformat_minor": 0,
  "metadata": {
    "colab": {
      "provenance": []
    },
    "kernelspec": {
      "name": "python3",
      "display_name": "Python 3"
    },
    "language_info": {
      "name": "python"
    }
  },
  "cells": [
    {
      "cell_type": "code",
      "execution_count": 97,
      "metadata": {
        "colab": {
          "base_uri": "https://localhost:8080/"
        },
        "collapsed": true,
        "id": "0JujKffyMTc0",
        "outputId": "7449f8e4-fc7f-45d1-a35c-bd9bf0e6f996"
      },
      "outputs": [
        {
          "output_type": "stream",
          "name": "stdout",
          "text": [
            "Requirement already satisfied: nltk in /usr/local/lib/python3.10/dist-packages (3.8.1)\n",
            "Requirement already satisfied: click in /usr/local/lib/python3.10/dist-packages (from nltk) (8.1.7)\n",
            "Requirement already satisfied: joblib in /usr/local/lib/python3.10/dist-packages (from nltk) (1.4.2)\n",
            "Requirement already satisfied: regex>=2021.8.3 in /usr/local/lib/python3.10/dist-packages (from nltk) (2024.5.15)\n",
            "Requirement already satisfied: tqdm in /usr/local/lib/python3.10/dist-packages (from nltk) (4.66.4)\n"
          ]
        }
      ],
      "source": [
        "pip install nltk"
      ]
    },
    {
      "cell_type": "code",
      "source": [
        "pip install newspaper3k"
      ],
      "metadata": {
        "colab": {
          "base_uri": "https://localhost:8080/"
        },
        "id": "e1PfuDwLMuWV",
        "outputId": "1123c2b6-9547-4e3f-80f7-93ab155a89b3"
      },
      "execution_count": 98,
      "outputs": [
        {
          "output_type": "stream",
          "name": "stdout",
          "text": [
            "Requirement already satisfied: newspaper3k in /usr/local/lib/python3.10/dist-packages (0.2.8)\n",
            "Requirement already satisfied: beautifulsoup4>=4.4.1 in /usr/local/lib/python3.10/dist-packages (from newspaper3k) (4.12.3)\n",
            "Requirement already satisfied: Pillow>=3.3.0 in /usr/local/lib/python3.10/dist-packages (from newspaper3k) (9.4.0)\n",
            "Requirement already satisfied: PyYAML>=3.11 in /usr/local/lib/python3.10/dist-packages (from newspaper3k) (6.0.1)\n",
            "Requirement already satisfied: cssselect>=0.9.2 in /usr/local/lib/python3.10/dist-packages (from newspaper3k) (1.2.0)\n",
            "Requirement already satisfied: lxml>=3.6.0 in /usr/local/lib/python3.10/dist-packages (from newspaper3k) (4.9.4)\n",
            "Requirement already satisfied: nltk>=3.2.1 in /usr/local/lib/python3.10/dist-packages (from newspaper3k) (3.8.1)\n",
            "Requirement already satisfied: requests>=2.10.0 in /usr/local/lib/python3.10/dist-packages (from newspaper3k) (2.31.0)\n",
            "Requirement already satisfied: feedparser>=5.2.1 in /usr/local/lib/python3.10/dist-packages (from newspaper3k) (6.0.11)\n",
            "Requirement already satisfied: tldextract>=2.0.1 in /usr/local/lib/python3.10/dist-packages (from newspaper3k) (5.1.2)\n",
            "Requirement already satisfied: feedfinder2>=0.0.4 in /usr/local/lib/python3.10/dist-packages (from newspaper3k) (0.0.4)\n",
            "Requirement already satisfied: jieba3k>=0.35.1 in /usr/local/lib/python3.10/dist-packages (from newspaper3k) (0.35.1)\n",
            "Requirement already satisfied: python-dateutil>=2.5.3 in /usr/local/lib/python3.10/dist-packages (from newspaper3k) (2.8.2)\n",
            "Requirement already satisfied: tinysegmenter==0.3 in /usr/local/lib/python3.10/dist-packages (from newspaper3k) (0.3)\n",
            "Requirement already satisfied: soupsieve>1.2 in /usr/local/lib/python3.10/dist-packages (from beautifulsoup4>=4.4.1->newspaper3k) (2.5)\n",
            "Requirement already satisfied: six in /usr/local/lib/python3.10/dist-packages (from feedfinder2>=0.0.4->newspaper3k) (1.16.0)\n",
            "Requirement already satisfied: sgmllib3k in /usr/local/lib/python3.10/dist-packages (from feedparser>=5.2.1->newspaper3k) (1.0.0)\n",
            "Requirement already satisfied: click in /usr/local/lib/python3.10/dist-packages (from nltk>=3.2.1->newspaper3k) (8.1.7)\n",
            "Requirement already satisfied: joblib in /usr/local/lib/python3.10/dist-packages (from nltk>=3.2.1->newspaper3k) (1.4.2)\n",
            "Requirement already satisfied: regex>=2021.8.3 in /usr/local/lib/python3.10/dist-packages (from nltk>=3.2.1->newspaper3k) (2024.5.15)\n",
            "Requirement already satisfied: tqdm in /usr/local/lib/python3.10/dist-packages (from nltk>=3.2.1->newspaper3k) (4.66.4)\n",
            "Requirement already satisfied: charset-normalizer<4,>=2 in /usr/local/lib/python3.10/dist-packages (from requests>=2.10.0->newspaper3k) (3.3.2)\n",
            "Requirement already satisfied: idna<4,>=2.5 in /usr/local/lib/python3.10/dist-packages (from requests>=2.10.0->newspaper3k) (3.7)\n",
            "Requirement already satisfied: urllib3<3,>=1.21.1 in /usr/local/lib/python3.10/dist-packages (from requests>=2.10.0->newspaper3k) (2.0.7)\n",
            "Requirement already satisfied: certifi>=2017.4.17 in /usr/local/lib/python3.10/dist-packages (from requests>=2.10.0->newspaper3k) (2024.7.4)\n",
            "Requirement already satisfied: requests-file>=1.4 in /usr/local/lib/python3.10/dist-packages (from tldextract>=2.0.1->newspaper3k) (2.1.0)\n",
            "Requirement already satisfied: filelock>=3.0.8 in /usr/local/lib/python3.10/dist-packages (from tldextract>=2.0.1->newspaper3k) (3.15.4)\n"
          ]
        }
      ]
    },
    {
      "cell_type": "code",
      "source": [
        "#import the libraries\n",
        "from newspaper import Article\n",
        "import random\n",
        "import string\n",
        "import nltk\n",
        "from sklearn.feature_extraction.text import CountVectorizer\n",
        "from sklearn.metrics.pairwise import cosine_similarity\n",
        "import numpy as np\n",
        "import warnings\n",
        "warnings.filterwarnings('ignore')\n"
      ],
      "metadata": {
        "id": "aMcrrNGGM_1t"
      },
      "execution_count": 99,
      "outputs": []
    },
    {
      "cell_type": "code",
      "source": [
        "#Download the punkt package\n",
        "nltk.download('punkt',quiet=True)"
      ],
      "metadata": {
        "colab": {
          "base_uri": "https://localhost:8080/"
        },
        "collapsed": true,
        "id": "Qe42dGNqODC3",
        "outputId": "f72ecf27-5117-4ae9-eb3e-06ea34702754"
      },
      "execution_count": 100,
      "outputs": [
        {
          "output_type": "execute_result",
          "data": {
            "text/plain": [
              "True"
            ]
          },
          "metadata": {},
          "execution_count": 100
        }
      ]
    },
    {
      "cell_type": "code",
      "source": [
        "#get the article\n",
        "article=Article('https://abcnews.go.com/sports/')\n",
        "article.download()\n",
        "article.parse()\n",
        "article.nlp()\n",
        "corpus=article.text\n"
      ],
      "metadata": {
        "id": "6uiRoj6FOde3"
      },
      "execution_count": 101,
      "outputs": []
    },
    {
      "cell_type": "code",
      "source": [
        "#print the articles\n",
        "print(corpus)"
      ],
      "metadata": {
        "colab": {
          "base_uri": "https://localhost:8080/"
        },
        "collapsed": true,
        "id": "XTcLKpiKPt1G",
        "outputId": "5e27f4a1-b3a3-4e0d-979b-e8043279a539"
      },
      "execution_count": 102,
      "outputs": [
        {
          "output_type": "stream",
          "name": "stdout",
          "text": [
            "DALLAS -- Kalen DeBoer has been Alabama coach for six months, enough time to get settled into his new job and the massive expectations that come with it. He would not have it any other way. During his news conference Wednesday at SEC media days, he was asked what it was like following Nick Saban, who returned the Crimson Tide to elite status during his 17 seasons in Tuscaloosa, winning six national titles and nine SEC championships. \"I understand there's only one Coach Saban,\" DeBoer said. \"There will only ever be one Coach Saban. This program is special, and I take it as a great honor to be the one that gets to do everything we can to carry on the great tradition. \"But for me personally, it was just more about understanding that coaching football is coaching football. It's been just an awesome blessing to be a part of this program, to continue to have that expectation on us. The alternative is to be at places where there aren't expectations.\" DeBoer knows what it is...\n"
          ]
        }
      ]
    },
    {
      "cell_type": "code",
      "source": [
        "#Tokenization\n",
        "text=corpus\n",
        "sentence_list=nltk.sent_tokenize(text) #a list of sentences"
      ],
      "metadata": {
        "id": "nMVHL_kCP-AO"
      },
      "execution_count": 103,
      "outputs": []
    },
    {
      "cell_type": "code",
      "source": [
        "#print the list of sentences\n",
        "print(sentence_list)"
      ],
      "metadata": {
        "colab": {
          "base_uri": "https://localhost:8080/"
        },
        "collapsed": true,
        "id": "vzxamarwQlgO",
        "outputId": "64ced1a7-060e-44eb-9fdf-bd6103487ec3"
      },
      "execution_count": 104,
      "outputs": [
        {
          "output_type": "stream",
          "name": "stdout",
          "text": [
            "['DALLAS -- Kalen DeBoer has been Alabama coach for six months, enough time to get settled into his new job and the massive expectations that come with it.', 'He would not have it any other way.', 'During his news conference Wednesday at SEC media days, he was asked what it was like following Nick Saban, who returned the Crimson Tide to elite status during his 17 seasons in Tuscaloosa, winning six national titles and nine SEC championships.', '\"I understand there\\'s only one Coach Saban,\" DeBoer said.', '\"There will only ever be one Coach Saban.', 'This program is special, and I take it as a great honor to be the one that gets to do everything we can to carry on the great tradition.', '\"But for me personally, it was just more about understanding that coaching football is coaching football.', \"It's been just an awesome blessing to be a part of this program, to continue to have that expectation on us.\", 'The alternative is to be at places where there aren\\'t expectations.\"', 'DeBoer knows what it is...']\n"
          ]
        }
      ]
    },
    {
      "cell_type": "code",
      "source": [
        "#A function to return a random greeting response to a users greeting\n",
        "def greeting_response(text):\n",
        "  text=text.lower()\n",
        "  #Bots greeting response\n",
        "  bot_greetings=['hi','hello','hey nisheetha','feel free to ask your doubts','how are you']\n",
        "  #user greeting\n",
        "  user_greetings=['hi','hello','yes','sure','good']\n",
        "  for word in text.split():\n",
        "    if word in user_greetings:\n",
        "      return random.choice(bot_greetings)\n",
        "\n"
      ],
      "metadata": {
        "id": "LaUs_llZQ1Qz"
      },
      "execution_count": 105,
      "outputs": []
    },
    {
      "cell_type": "code",
      "source": [
        "def index_sort(list_var):\n",
        "  length=len(list_var)\n",
        "  list_index=list(range(0,length))\n",
        "  x=list_var\n",
        "  for i in range(length):\n",
        "    for j in range(length):\n",
        "      if x[list_index[i]]>x[list_index[j]]:\n",
        "        #swap\n",
        "        temp=list_index[i]\n",
        "        list_index[i]=list_index[i]\n",
        "        list_index[j]=temp\n",
        "        return list_index"
      ],
      "metadata": {
        "id": "mPnASCtkSbTu"
      },
      "execution_count": 106,
      "outputs": []
    },
    {
      "cell_type": "code",
      "source": [
        "#create the bots response\n",
        "def bot_response(user_input):\n",
        "  user_input=user_input.lower()\n",
        "  sentence_list.append(user-input)\n",
        "  bot_response=''\n",
        "  cm=CountVectorizer().fit_transform(sentence_list)\n",
        "  similarity_scores=cosine_similarity(cm[-1],cm)\n",
        "  similarity_scores_list=similarity_scores.flatten()\n",
        "  index=index_sort(similarity_scores_list)\n",
        "  index=index[1:]\n",
        "  response_flag=0\n",
        "  j=0\n",
        "  for i in range(len(index)):\n",
        "    if similarity_scores_list[index[i]]>0.0:\n",
        "      bot_response=bot_response+' '+sentence_list[index[i]]\n",
        "      response_flag=1\n",
        "      j=j+1\n",
        "    if j>2:\n",
        "      break\n",
        "  if response_flag==0:\n",
        "    bot_response=bot_response+' '+\"I am sorry, I don't understand you\"\n",
        "  sentence_list.remove(user_input)\n",
        "  return bot_response\n",
        "\n",
        "\n",
        "\n"
      ],
      "metadata": {
        "id": "MLQxUCRcUIDm"
      },
      "execution_count": 107,
      "outputs": []
    },
    {
      "cell_type": "code",
      "source": [
        "user_input='hello world'\n",
        "sentence_list.append(user_input)\n",
        "bot_response=''\n",
        "cm=CountVectorizer().fit_transform(sentence_list)\n",
        "similarity_scores=cosine_similarity(cm[-1],cm)\n",
        "similarity_scores_list=similarity_scores.flatten()\n",
        "index=index_sort(similarity_scores_list)\n",
        "index=index[1:]\n",
        "print(index)"
      ],
      "metadata": {
        "colab": {
          "base_uri": "https://localhost:8080/"
        },
        "collapsed": true,
        "id": "oLZL8GM1XAjT",
        "outputId": "8a53b89e-4846-4b60-a02f-b37e87a889bd"
      },
      "execution_count": 108,
      "outputs": [
        {
          "output_type": "stream",
          "name": "stdout",
          "text": [
            "[1, 2, 3, 4, 5, 6, 7, 8, 9, 10]\n"
          ]
        }
      ]
    },
    {
      "cell_type": "code",
      "source": [
        "#start the chat\n",
        "print('Bot: I am sport chat bot.')\n",
        "exit_list=['exit','see you later','bye','quit']\n",
        "while(True):\n",
        "  user_input=input()\n",
        "  if user_input.lower() in exit_list:\n",
        "    print('Bot: See you later!')\n",
        "    break\n",
        "  else:\n",
        "      if greeting_response(user_input)!=None:\n",
        "        print('Bot: '+greeting_response(user_input))\n",
        "      else:\n",
        "        print('user: '+user_greetings(user_input))\n",
        "        print('Bot: '+bot_greetings(user_input))\n",
        "        print('Bot: '+bot_response(user_input))\n",
        "\n",
        "\n",
        "\n",
        "\n",
        "\n"
      ],
      "metadata": {
        "colab": {
          "base_uri": "https://localhost:8080/"
        },
        "collapsed": true,
        "id": "wTOQK_o1X5g2",
        "outputId": "7b0e9729-586b-4b77-835a-88b9469bd203"
      },
      "execution_count": 109,
      "outputs": [
        {
          "output_type": "stream",
          "name": "stdout",
          "text": [
            "Bot: I am sport chat bot.\n",
            "hi\n",
            "Bot: hi\n",
            "hello\n",
            "Bot: hey nisheetha\n",
            "yes\n",
            "Bot: feel free to ask your doubts\n",
            "sure\n",
            "Bot: how are you\n",
            "good\n",
            "Bot: how are you\n",
            "quit\n",
            "Bot: See you later!\n"
          ]
        }
      ]
    }
  ]
}